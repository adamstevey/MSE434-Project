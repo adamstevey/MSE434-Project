{
 "cells": [
  {
   "cell_type": "markdown",
   "id": "a0f12a0a",
   "metadata": {},
   "source": [
    "## Group Number 1  \n",
    "**Members:**  \n",
    "- Ayush Bhargava (20889700)  \n",
    "- Adam Stevenson (20952151)  \n",
    "- Michael Stevenson (20952355)  \n",
    "- Mason Au (20952355)  \n",
    "- AJ Chen (20930079)\n",
    "\n",
    "---"
   ]
  },
  {
   "cell_type": "code",
   "execution_count": 57,
   "id": "079bb195",
   "metadata": {},
   "outputs": [
    {
     "name": "stdout",
     "output_type": "stream",
     "text": [
      "Requirement already satisfied: pandas in c:\\users\\user\\appdata\\local\\programs\\python\\python310\\lib\\site-packages (2.3.1)\n",
      "Requirement already satisfied: numpy in c:\\users\\user\\appdata\\local\\programs\\python\\python310\\lib\\site-packages (2.2.6)\n",
      "Requirement already satisfied: docplex in c:\\users\\user\\appdata\\local\\programs\\python\\python310\\lib\\site-packages (2.30.251)\n",
      "Requirement already satisfied: python-dateutil>=2.8.2 in c:\\users\\user\\appdata\\roaming\\python\\python310\\site-packages (from pandas) (2.9.0.post0)\n",
      "Requirement already satisfied: pytz>=2020.1 in c:\\users\\user\\appdata\\local\\programs\\python\\python310\\lib\\site-packages (from pandas) (2025.2)\n",
      "Requirement already satisfied: tzdata>=2022.7 in c:\\users\\user\\appdata\\local\\programs\\python\\python310\\lib\\site-packages (from pandas) (2025.2)\n",
      "Requirement already satisfied: six in c:\\users\\user\\appdata\\local\\programs\\python\\python310\\lib\\site-packages (from docplex) (1.17.0)\n",
      "Note: you may need to restart the kernel to use updated packages.\n"
     ]
    },
    {
     "name": "stderr",
     "output_type": "stream",
     "text": [
      "WARNING: You are using pip version 21.2.3; however, version 25.1.1 is available.\n",
      "You should consider upgrading via the 'c:\\Users\\User\\AppData\\Local\\Programs\\Python\\Python310\\python.exe -m pip install --upgrade pip' command.\n"
     ]
    }
   ],
   "source": [
    "# Python3.10\n",
    "%pip install pandas numpy docplex"
   ]
  },
  {
   "cell_type": "code",
   "execution_count": 58,
   "id": "0834d49f",
   "metadata": {},
   "outputs": [],
   "source": [
    "import pandas as pd\n",
    "import numpy as np\n",
    "from docplex.mp.model import Model"
   ]
  },
  {
   "cell_type": "markdown",
   "id": "79bafff4",
   "metadata": {},
   "source": [
    "# Base Model\n",
    "---"
   ]
  },
  {
   "cell_type": "markdown",
   "id": "87d7f75a",
   "metadata": {},
   "source": [
    "## Data\n",
    "---"
   ]
  },
  {
   "cell_type": "code",
   "execution_count": 59,
   "id": "de72bc22",
   "metadata": {},
   "outputs": [],
   "source": [
    "raw_materials = [1, 2]\n",
    "products = ['A', 'B']  # A = Chair, B = Drawer\n",
    "suppliers = [1, 2, 3]\n",
    "plants = ['A', 'B', 'C']\n",
    "customers = [1, 2, 3]"
   ]
  },
  {
   "cell_type": "markdown",
   "id": "4dfc9164",
   "metadata": {},
   "source": [
    "#### Supplier Capacities"
   ]
  },
  {
   "cell_type": "code",
   "execution_count": 60,
   "id": "2a58c777",
   "metadata": {},
   "outputs": [
    {
     "data": {
      "text/html": [
       "<div>\n",
       "<style scoped>\n",
       "    .dataframe tbody tr th:only-of-type {\n",
       "        vertical-align: middle;\n",
       "    }\n",
       "\n",
       "    .dataframe tbody tr th {\n",
       "        vertical-align: top;\n",
       "    }\n",
       "\n",
       "    .dataframe thead th {\n",
       "        text-align: right;\n",
       "    }\n",
       "</style>\n",
       "<table border=\"1\" class=\"dataframe\">\n",
       "  <thead>\n",
       "    <tr style=\"text-align: right;\">\n",
       "      <th></th>\n",
       "      <th>Supplier</th>\n",
       "      <th>Plastic Granule 1 (boxes)</th>\n",
       "      <th>Plastic Granule 2 (boxes)</th>\n",
       "    </tr>\n",
       "  </thead>\n",
       "  <tbody>\n",
       "    <tr>\n",
       "      <th>0</th>\n",
       "      <td>Supplier 1</td>\n",
       "      <td>4800</td>\n",
       "      <td>5000</td>\n",
       "    </tr>\n",
       "    <tr>\n",
       "      <th>1</th>\n",
       "      <td>Supplier 2</td>\n",
       "      <td>5000</td>\n",
       "      <td>0</td>\n",
       "    </tr>\n",
       "    <tr>\n",
       "      <th>2</th>\n",
       "      <td>Supplier 3</td>\n",
       "      <td>0</td>\n",
       "      <td>5000</td>\n",
       "    </tr>\n",
       "  </tbody>\n",
       "</table>\n",
       "</div>"
      ],
      "text/plain": [
       "     Supplier  Plastic Granule 1 (boxes)  Plastic Granule 2 (boxes)\n",
       "0  Supplier 1                       4800                       5000\n",
       "1  Supplier 2                       5000                          0\n",
       "2  Supplier 3                          0                       5000"
      ]
     },
     "metadata": {},
     "output_type": "display_data"
    }
   ],
   "source": [
    "supplier_capacities = pd.DataFrame({'Supplier': ['Supplier 1', 'Supplier 2', 'Supplier 3'], 'Plastic Granule 1 (boxes)': [4800, 5000, 0], 'Plastic Granule 2 (boxes)': [5000, 0, 5000]})\n",
    "display(supplier_capacities) # For visualization\n",
    "supplier_capacities = {\n",
    "    (1,1): 4800, (2,1): 5000,\n",
    "    (1,2): 5000, (2,2): 0,\n",
    "    (1,3): 0,    (2,3): 5000\n",
    "}"
   ]
  },
  {
   "cell_type": "markdown",
   "id": "3c68aec4",
   "metadata": {},
   "source": [
    "#### Raw Material Costs"
   ]
  },
  {
   "cell_type": "code",
   "execution_count": 61,
   "id": "c01dcf6c",
   "metadata": {},
   "outputs": [
    {
     "data": {
      "text/html": [
       "<div>\n",
       "<style scoped>\n",
       "    .dataframe tbody tr th:only-of-type {\n",
       "        vertical-align: middle;\n",
       "    }\n",
       "\n",
       "    .dataframe tbody tr th {\n",
       "        vertical-align: top;\n",
       "    }\n",
       "\n",
       "    .dataframe thead th {\n",
       "        text-align: right;\n",
       "    }\n",
       "</style>\n",
       "<table border=\"1\" class=\"dataframe\">\n",
       "  <thead>\n",
       "    <tr style=\"text-align: right;\">\n",
       "      <th></th>\n",
       "      <th>Supplier</th>\n",
       "      <th>Plastic Granule 1 (₱100s)</th>\n",
       "      <th>Plastic Granule 2 (₱100s)</th>\n",
       "    </tr>\n",
       "  </thead>\n",
       "  <tbody>\n",
       "    <tr>\n",
       "      <th>0</th>\n",
       "      <td>Supplier 1</td>\n",
       "      <td>3.0</td>\n",
       "      <td>5.0</td>\n",
       "    </tr>\n",
       "    <tr>\n",
       "      <th>1</th>\n",
       "      <td>Supplier 2</td>\n",
       "      <td>2.0</td>\n",
       "      <td>NaN</td>\n",
       "    </tr>\n",
       "    <tr>\n",
       "      <th>2</th>\n",
       "      <td>Supplier 3</td>\n",
       "      <td>NaN</td>\n",
       "      <td>4.0</td>\n",
       "    </tr>\n",
       "  </tbody>\n",
       "</table>\n",
       "</div>"
      ],
      "text/plain": [
       "     Supplier  Plastic Granule 1 (₱100s)  Plastic Granule 2 (₱100s)\n",
       "0  Supplier 1                        3.0                        5.0\n",
       "1  Supplier 2                        2.0                        NaN\n",
       "2  Supplier 3                        NaN                        4.0"
      ]
     },
     "metadata": {},
     "output_type": "display_data"
    }
   ],
   "source": [
    "raw_material_costs = pd.DataFrame({'Supplier': ['Supplier 1', 'Supplier 2', 'Supplier 3'], 'Plastic Granule 1 (₱100s)': [3.0, 2.0, np.nan], 'Plastic Granule 2 (₱100s)': [5.0, np.nan, 4.0]})\n",
    "display(raw_material_costs) # For visualization\n",
    "raw_material_costs = {\n",
    "    (1,1): 3, (2,1): 5,\n",
    "    (1,2): 2,\n",
    "    (2,3): 4\n",
    "}"
   ]
  },
  {
   "cell_type": "markdown",
   "id": "3a535272",
   "metadata": {},
   "source": [
    "#### Plant Safety Stock"
   ]
  },
  {
   "cell_type": "code",
   "execution_count": 62,
   "id": "dc187ed4",
   "metadata": {},
   "outputs": [
    {
     "data": {
      "text/html": [
       "<div>\n",
       "<style scoped>\n",
       "    .dataframe tbody tr th:only-of-type {\n",
       "        vertical-align: middle;\n",
       "    }\n",
       "\n",
       "    .dataframe tbody tr th {\n",
       "        vertical-align: top;\n",
       "    }\n",
       "\n",
       "    .dataframe thead th {\n",
       "        text-align: right;\n",
       "    }\n",
       "</style>\n",
       "<table border=\"1\" class=\"dataframe\">\n",
       "  <thead>\n",
       "    <tr style=\"text-align: right;\">\n",
       "      <th></th>\n",
       "      <th>Plant</th>\n",
       "      <th>Plastic Granule 1 (boxes)</th>\n",
       "      <th>Plastic Granule 2 (boxes)</th>\n",
       "    </tr>\n",
       "  </thead>\n",
       "  <tbody>\n",
       "    <tr>\n",
       "      <th>0</th>\n",
       "      <td>Plant A</td>\n",
       "      <td>1200</td>\n",
       "      <td>1400</td>\n",
       "    </tr>\n",
       "    <tr>\n",
       "      <th>1</th>\n",
       "      <td>Plant B</td>\n",
       "      <td>800</td>\n",
       "      <td>2100</td>\n",
       "    </tr>\n",
       "    <tr>\n",
       "      <th>2</th>\n",
       "      <td>Plant C</td>\n",
       "      <td>1500</td>\n",
       "      <td>1100</td>\n",
       "    </tr>\n",
       "  </tbody>\n",
       "</table>\n",
       "</div>"
      ],
      "text/plain": [
       "     Plant  Plastic Granule 1 (boxes)  Plastic Granule 2 (boxes)\n",
       "0  Plant A                       1200                       1400\n",
       "1  Plant B                        800                       2100\n",
       "2  Plant C                       1500                       1100"
      ]
     },
     "metadata": {},
     "output_type": "display_data"
    }
   ],
   "source": [
    "plant_safety_stock = pd.DataFrame({'Plant': ['Plant A', 'Plant B', 'Plant C'], 'Plastic Granule 1 (boxes)': [1200, 800, 1500], 'Plastic Granule 2 (boxes)': [1400, 2100, 1100]})\n",
    "display(plant_safety_stock) # For visualization\n",
    "plant_safety_stock = {\n",
    "    ('A',1): 1200, ('A',2): 1400,\n",
    "    ('B',1): 800,  ('B',2): 2100,\n",
    "    ('C',1): 1500, ('C',2): 1100\n",
    "}"
   ]
  },
  {
   "cell_type": "markdown",
   "id": "f058312e",
   "metadata": {},
   "source": [
    "#### Production Capacity"
   ]
  },
  {
   "cell_type": "code",
   "execution_count": 63,
   "id": "441b276d",
   "metadata": {},
   "outputs": [
    {
     "data": {
      "text/html": [
       "<div>\n",
       "<style scoped>\n",
       "    .dataframe tbody tr th:only-of-type {\n",
       "        vertical-align: middle;\n",
       "    }\n",
       "\n",
       "    .dataframe tbody tr th {\n",
       "        vertical-align: top;\n",
       "    }\n",
       "\n",
       "    .dataframe thead th {\n",
       "        text-align: right;\n",
       "    }\n",
       "</style>\n",
       "<table border=\"1\" class=\"dataframe\">\n",
       "  <thead>\n",
       "    <tr style=\"text-align: right;\">\n",
       "      <th></th>\n",
       "      <th>Plant</th>\n",
       "      <th>Plastic Chair</th>\n",
       "      <th>Plastic Drawer</th>\n",
       "    </tr>\n",
       "  </thead>\n",
       "  <tbody>\n",
       "    <tr>\n",
       "      <th>0</th>\n",
       "      <td>Plant A</td>\n",
       "      <td>1500</td>\n",
       "      <td>2000</td>\n",
       "    </tr>\n",
       "    <tr>\n",
       "      <th>1</th>\n",
       "      <td>Plant B</td>\n",
       "      <td>2000</td>\n",
       "      <td>1800</td>\n",
       "    </tr>\n",
       "    <tr>\n",
       "      <th>2</th>\n",
       "      <td>Plant C</td>\n",
       "      <td>1800</td>\n",
       "      <td>2500</td>\n",
       "    </tr>\n",
       "  </tbody>\n",
       "</table>\n",
       "</div>"
      ],
      "text/plain": [
       "     Plant  Plastic Chair  Plastic Drawer\n",
       "0  Plant A           1500            2000\n",
       "1  Plant B           2000            1800\n",
       "2  Plant C           1800            2500"
      ]
     },
     "metadata": {},
     "output_type": "display_data"
    }
   ],
   "source": [
    "production_capacity = pd.DataFrame({'Plant': ['Plant A', 'Plant B', 'Plant C'], 'Plastic Chair': [1500, 2000, 1800], 'Plastic Drawer': [2000, 1800, 2500]})\n",
    "display(production_capacity) # For visualization\n",
    "production_capacity = {\n",
    "    ('A','A'): 1500, ('A','B'): 2000,\n",
    "    ('B','A'): 2000, ('B','B'): 1800,\n",
    "    ('C','A'): 1800, ('C','B'): 2500\n",
    "}"
   ]
  },
  {
   "cell_type": "markdown",
   "id": "40887f5b",
   "metadata": {},
   "source": [
    "#### Production Costs"
   ]
  },
  {
   "cell_type": "code",
   "execution_count": 64,
   "id": "5a3aaa9b",
   "metadata": {},
   "outputs": [
    {
     "data": {
      "text/html": [
       "<div>\n",
       "<style scoped>\n",
       "    .dataframe tbody tr th:only-of-type {\n",
       "        vertical-align: middle;\n",
       "    }\n",
       "\n",
       "    .dataframe tbody tr th {\n",
       "        vertical-align: top;\n",
       "    }\n",
       "\n",
       "    .dataframe thead th {\n",
       "        text-align: right;\n",
       "    }\n",
       "</style>\n",
       "<table border=\"1\" class=\"dataframe\">\n",
       "  <thead>\n",
       "    <tr style=\"text-align: right;\">\n",
       "      <th></th>\n",
       "      <th>Plant</th>\n",
       "      <th>Plastic Chair (₱100s)</th>\n",
       "      <th>Plastic Drawer (₱100s)</th>\n",
       "    </tr>\n",
       "  </thead>\n",
       "  <tbody>\n",
       "    <tr>\n",
       "      <th>0</th>\n",
       "      <td>Plant A</td>\n",
       "      <td>1</td>\n",
       "      <td>2</td>\n",
       "    </tr>\n",
       "    <tr>\n",
       "      <th>1</th>\n",
       "      <td>Plant B</td>\n",
       "      <td>4</td>\n",
       "      <td>3</td>\n",
       "    </tr>\n",
       "    <tr>\n",
       "      <th>2</th>\n",
       "      <td>Plant C</td>\n",
       "      <td>2</td>\n",
       "      <td>3</td>\n",
       "    </tr>\n",
       "  </tbody>\n",
       "</table>\n",
       "</div>"
      ],
      "text/plain": [
       "     Plant  Plastic Chair (₱100s)  Plastic Drawer (₱100s)\n",
       "0  Plant A                      1                       2\n",
       "1  Plant B                      4                       3\n",
       "2  Plant C                      2                       3"
      ]
     },
     "metadata": {},
     "output_type": "display_data"
    }
   ],
   "source": [
    "production_costs = pd.DataFrame({'Plant': ['Plant A', 'Plant B', 'Plant C'], 'Plastic Chair (₱100s)': [1, 4, 2], 'Plastic Drawer (₱100s)': [2, 3, 3]})\n",
    "display(production_costs) # For visualization\n",
    "production_cost = {\n",
    "    ('A','A'): 1, ('A','B'): 2,\n",
    "    ('B','A'): 4, ('B','B'): 3,\n",
    "    ('C','A'): 2, ('C','B'): 3\n",
    "}"
   ]
  },
  {
   "cell_type": "markdown",
   "id": "9c859da2",
   "metadata": {},
   "source": [
    "#### Material to Product Conversion"
   ]
  },
  {
   "cell_type": "code",
   "execution_count": 65,
   "id": "baeb5bbe",
   "metadata": {},
   "outputs": [
    {
     "data": {
      "text/html": [
       "<div>\n",
       "<style scoped>\n",
       "    .dataframe tbody tr th:only-of-type {\n",
       "        vertical-align: middle;\n",
       "    }\n",
       "\n",
       "    .dataframe tbody tr th {\n",
       "        vertical-align: top;\n",
       "    }\n",
       "\n",
       "    .dataframe thead th {\n",
       "        text-align: right;\n",
       "    }\n",
       "</style>\n",
       "<table border=\"1\" class=\"dataframe\">\n",
       "  <thead>\n",
       "    <tr style=\"text-align: right;\">\n",
       "      <th></th>\n",
       "      <th>Product</th>\n",
       "      <th>Plastic Granule 1 (boxes)</th>\n",
       "      <th>Plastic Granule 2 (boxes)</th>\n",
       "    </tr>\n",
       "  </thead>\n",
       "  <tbody>\n",
       "    <tr>\n",
       "      <th>0</th>\n",
       "      <td>Plastic Chair</td>\n",
       "      <td>1</td>\n",
       "      <td>2</td>\n",
       "    </tr>\n",
       "    <tr>\n",
       "      <th>1</th>\n",
       "      <td>Plastic Drawer</td>\n",
       "      <td>2</td>\n",
       "      <td>1</td>\n",
       "    </tr>\n",
       "  </tbody>\n",
       "</table>\n",
       "</div>"
      ],
      "text/plain": [
       "          Product  Plastic Granule 1 (boxes)  Plastic Granule 2 (boxes)\n",
       "0   Plastic Chair                          1                          2\n",
       "1  Plastic Drawer                          2                          1"
      ]
     },
     "metadata": {},
     "output_type": "display_data"
    }
   ],
   "source": [
    "material_to_product_conversion = pd.DataFrame({'Product': ['Plastic Chair', 'Plastic Drawer'], 'Plastic Granule 1 (boxes)': [1, 2], 'Plastic Granule 2 (boxes)': [2, 1]})\n",
    "display(material_to_product_conversion) # For visualization\n",
    "conversion = {\n",
    "    ('A',1): 1, ('A',2): 2,\n",
    "    ('B',1): 2, ('B',2): 1\n",
    "}"
   ]
  },
  {
   "cell_type": "markdown",
   "id": "02c5d196",
   "metadata": {},
   "source": [
    "#### Customer Demands"
   ]
  },
  {
   "cell_type": "code",
   "execution_count": 66,
   "id": "8f8a14a0",
   "metadata": {},
   "outputs": [
    {
     "data": {
      "text/html": [
       "<div>\n",
       "<style scoped>\n",
       "    .dataframe tbody tr th:only-of-type {\n",
       "        vertical-align: middle;\n",
       "    }\n",
       "\n",
       "    .dataframe tbody tr th {\n",
       "        vertical-align: top;\n",
       "    }\n",
       "\n",
       "    .dataframe thead th {\n",
       "        text-align: right;\n",
       "    }\n",
       "</style>\n",
       "<table border=\"1\" class=\"dataframe\">\n",
       "  <thead>\n",
       "    <tr style=\"text-align: right;\">\n",
       "      <th></th>\n",
       "      <th>Customer</th>\n",
       "      <th>Plastic Chair</th>\n",
       "      <th>Plastic Drawer</th>\n",
       "    </tr>\n",
       "  </thead>\n",
       "  <tbody>\n",
       "    <tr>\n",
       "      <th>0</th>\n",
       "      <td>Customer 1</td>\n",
       "      <td>500</td>\n",
       "      <td>900</td>\n",
       "    </tr>\n",
       "    <tr>\n",
       "      <th>1</th>\n",
       "      <td>Customer 2</td>\n",
       "      <td>600</td>\n",
       "      <td>1400</td>\n",
       "    </tr>\n",
       "    <tr>\n",
       "      <th>2</th>\n",
       "      <td>Customer 3</td>\n",
       "      <td>1100</td>\n",
       "      <td>1200</td>\n",
       "    </tr>\n",
       "  </tbody>\n",
       "</table>\n",
       "</div>"
      ],
      "text/plain": [
       "     Customer  Plastic Chair  Plastic Drawer\n",
       "0  Customer 1            500             900\n",
       "1  Customer 2            600            1400\n",
       "2  Customer 3           1100            1200"
      ]
     },
     "metadata": {},
     "output_type": "display_data"
    }
   ],
   "source": [
    "customer_demands = pd.DataFrame({'Customer': ['Customer 1', 'Customer 2', 'Customer 3'], 'Plastic Chair': [500, 600, 1100], 'Plastic Drawer': [900, 1400, 1200]})\n",
    "display(customer_demands) # For visualization\n",
    "customer_demand = {\n",
    "    (1,'A'): 500,  (1,'B'): 900,\n",
    "    (2,'A'): 600,  (2,'B'): 1400,\n",
    "    (3,'A'): 1100, (3,'B'): 1200\n",
    "}"
   ]
  },
  {
   "cell_type": "markdown",
   "id": "08693d7f",
   "metadata": {},
   "source": [
    "#### Transportation Costs (Raw Materials)"
   ]
  },
  {
   "cell_type": "code",
   "execution_count": 67,
   "id": "c8ec51ab",
   "metadata": {},
   "outputs": [
    {
     "data": {
      "text/html": [
       "<div>\n",
       "<style scoped>\n",
       "    .dataframe tbody tr th:only-of-type {\n",
       "        vertical-align: middle;\n",
       "    }\n",
       "\n",
       "    .dataframe tbody tr th {\n",
       "        vertical-align: top;\n",
       "    }\n",
       "\n",
       "    .dataframe thead th {\n",
       "        text-align: right;\n",
       "    }\n",
       "</style>\n",
       "<table border=\"1\" class=\"dataframe\">\n",
       "  <thead>\n",
       "    <tr style=\"text-align: right;\">\n",
       "      <th></th>\n",
       "      <th>From</th>\n",
       "      <th>To Plant A (₱100s)</th>\n",
       "      <th>To Plant B (₱100s)</th>\n",
       "      <th>To Plant C (₱100s)</th>\n",
       "    </tr>\n",
       "  </thead>\n",
       "  <tbody>\n",
       "    <tr>\n",
       "      <th>0</th>\n",
       "      <td>Supplier 1</td>\n",
       "      <td>7</td>\n",
       "      <td>4</td>\n",
       "      <td>5</td>\n",
       "    </tr>\n",
       "    <tr>\n",
       "      <th>1</th>\n",
       "      <td>Supplier 2</td>\n",
       "      <td>6</td>\n",
       "      <td>10</td>\n",
       "      <td>8</td>\n",
       "    </tr>\n",
       "    <tr>\n",
       "      <th>2</th>\n",
       "      <td>Supplier 3</td>\n",
       "      <td>13</td>\n",
       "      <td>9</td>\n",
       "      <td>11</td>\n",
       "    </tr>\n",
       "  </tbody>\n",
       "</table>\n",
       "</div>"
      ],
      "text/plain": [
       "         From  To Plant A (₱100s)  To Plant B (₱100s)  To Plant C (₱100s)\n",
       "0  Supplier 1                   7                   4                   5\n",
       "1  Supplier 2                   6                  10                   8\n",
       "2  Supplier 3                  13                   9                  11"
      ]
     },
     "metadata": {},
     "output_type": "display_data"
    }
   ],
   "source": [
    "transportation_costs_raw_materials = pd.DataFrame({'From': ['Supplier 1', 'Supplier 2', 'Supplier 3'], 'To Plant A (₱100s)': [7, 6, 13], 'To Plant B (₱100s)': [4, 10, 9], 'To Plant C (₱100s)': [5, 8, 11]})\n",
    "display(transportation_costs_raw_materials) # For visualization\n",
    "transport_cost_rm = {\n",
    "    (1,'A'): 7, (1,'B'): 4, (1,'C'): 5,\n",
    "    (2,'A'): 6, (2,'B'): 10, (2,'C'): 8,\n",
    "    (3,'A'): 13, (3,'B'): 9, (3,'C'): 11\n",
    "}"
   ]
  },
  {
   "cell_type": "markdown",
   "id": "dbe298cf",
   "metadata": {},
   "source": [
    "#### Transportation Costs (Finished Products)"
   ]
  },
  {
   "cell_type": "code",
   "execution_count": 68,
   "id": "0ab6f7a7",
   "metadata": {},
   "outputs": [
    {
     "data": {
      "text/html": [
       "<div>\n",
       "<style scoped>\n",
       "    .dataframe tbody tr th:only-of-type {\n",
       "        vertical-align: middle;\n",
       "    }\n",
       "\n",
       "    .dataframe tbody tr th {\n",
       "        vertical-align: top;\n",
       "    }\n",
       "\n",
       "    .dataframe thead th {\n",
       "        text-align: right;\n",
       "    }\n",
       "</style>\n",
       "<table border=\"1\" class=\"dataframe\">\n",
       "  <thead>\n",
       "    <tr style=\"text-align: right;\">\n",
       "      <th></th>\n",
       "      <th>From</th>\n",
       "      <th>To Customer 1 (₱100s)</th>\n",
       "      <th>To Customer 2 (₱100s)</th>\n",
       "      <th>To Customer 3 (₱100s)</th>\n",
       "    </tr>\n",
       "  </thead>\n",
       "  <tbody>\n",
       "    <tr>\n",
       "      <th>0</th>\n",
       "      <td>Plant A</td>\n",
       "      <td>8</td>\n",
       "      <td>10</td>\n",
       "      <td>5</td>\n",
       "    </tr>\n",
       "    <tr>\n",
       "      <th>1</th>\n",
       "      <td>Plant B</td>\n",
       "      <td>12</td>\n",
       "      <td>7</td>\n",
       "      <td>9</td>\n",
       "    </tr>\n",
       "    <tr>\n",
       "      <th>2</th>\n",
       "      <td>Plant C</td>\n",
       "      <td>11</td>\n",
       "      <td>9</td>\n",
       "      <td>15</td>\n",
       "    </tr>\n",
       "  </tbody>\n",
       "</table>\n",
       "</div>"
      ],
      "text/plain": [
       "      From  To Customer 1 (₱100s)  To Customer 2 (₱100s)  \\\n",
       "0  Plant A                      8                     10   \n",
       "1  Plant B                     12                      7   \n",
       "2  Plant C                     11                      9   \n",
       "\n",
       "   To Customer 3 (₱100s)  \n",
       "0                      5  \n",
       "1                      9  \n",
       "2                     15  "
      ]
     },
     "metadata": {},
     "output_type": "display_data"
    }
   ],
   "source": [
    "transportation_costs_finished_products = pd.DataFrame({'From': ['Plant A', 'Plant B', 'Plant C'], 'To Customer 1 (₱100s)': [8, 12, 11], 'To Customer 2 (₱100s)': [10, 7, 9], 'To Customer 3 (₱100s)': [5, 9, 15]})\n",
    "display(transportation_costs_finished_products) # For visualization\n",
    "transport_cost_fg = {\n",
    "    ('A',1): 8, ('A',2): 10, ('A',3): 5,\n",
    "    ('B',1): 12, ('B',2): 7,  ('B',3): 9,\n",
    "    ('C',1): 11, ('C',2): 9,  ('C',3): 15\n",
    "}"
   ]
  },
  {
   "cell_type": "markdown",
   "id": "477a6d42",
   "metadata": {},
   "source": [
    "## Base Model Objective Function\n",
    "---"
   ]
  },
  {
   "cell_type": "markdown",
   "id": "6c3adf56",
   "metadata": {},
   "source": [
    "### Table 9. Parts of the Objective Function\n",
    "\n",
    "| $Z_n$ | Equation Number | Cost Type                  |\n",
    "|------|------------------|----------------------------|\n",
    "| $Z_1$ | (1)             | Raw Material Purchase Cost |\n",
    "| $Z_2$ | (2)             | Production Cost            |\n",
    "| $Z_3$ | (3)             | Transportation Cost (Raw Metrials)        |\n",
    "| $Z_4$ | (4)             | Transportation Cost (Finished Products)        |\n",
    "| $Z$   | (5)             | Total Cost                 |\n",
    "\n",
    "\n",
    "### Decision Variables\n",
    "\n",
    "Let $RM_{jlm}$ be the amount of each raw material ordered from each supplier and delivered to each plant, where:\n",
    "- $j$ is the raw material type [1, 2]\n",
    "- $l$ is which supplier the material comes from [1, 2, 3]\n",
    "- $m$ is the plant the material is sent to [A, B, C]\n",
    "\n",
    "Let $P_{knm}$ be the amount of each finished project sent from each plant to each customer, where:\n",
    "- $k$ is the product type [A, B]\n",
    "- $n$ is which plant the product comes from\n",
    "- $m$ is which customer the product is delivered to\n"
   ]
  },
  {
   "cell_type": "code",
   "execution_count": 69,
   "id": "760e1035",
   "metadata": {},
   "outputs": [],
   "source": [
    "mdl = Model(name=\"Plastic_Manufacturing_Optimization\")\n",
    "\n",
    "# Decision variables\n",
    "RM = {(j,l,m): mdl.integer_var(name=f\"RM{j}{l}{m}\") for j in raw_materials for l in suppliers for m in plants}\n",
    "P  = {(k,m,n): mdl.integer_var(name=f\"P{k}{m}{n}\") for k in products for m in plants for n in customers}\n",
    "\n",
    "mdl.minimize(\n",
    "    # Raw Material Purchase\n",
    "    mdl.sum(raw_material_costs.get((j,l), 0) * RM[j,l,m] for j in raw_materials for l in suppliers for m in plants) +\n",
    "\n",
    "    # Production Cost\n",
    "    mdl.sum(production_cost[m,k] * P[k,m,n] for k in products for m in plants for n in customers) +\n",
    "\n",
    "    # Transportation Costs - Raw Materials\n",
    "    mdl.sum(transport_cost_rm[l,m] * RM[j,l,m] for j in raw_materials for l in suppliers for m in plants) +\n",
    "\n",
    "    # Transportation Costs - Finished Goods\n",
    "    mdl.sum(transport_cost_fg[m,n] * P[k,m,n] for k in products for m in plants for n in customers)\n",
    ")"
   ]
  },
  {
   "cell_type": "markdown",
   "id": "9d325512",
   "metadata": {},
   "source": [
    "## Base Constraints\n",
    "---"
   ]
  },
  {
   "cell_type": "markdown",
   "id": "690dd491",
   "metadata": {},
   "source": [
    "**Supplier Capacity** : ```Ensures the company will not order an amount greater than what is available```"
   ]
  },
  {
   "cell_type": "code",
   "execution_count": 70,
   "id": "f320962c",
   "metadata": {},
   "outputs": [],
   "source": [
    "for j in raw_materials:\n",
    "    for l in suppliers:\n",
    "        mdl.add_constraint(mdl.sum(RM[j,l,m] for m in plants) <= supplier_capacities.get((j,l), 0))"
   ]
  },
  {
   "cell_type": "markdown",
   "id": "e24a1f38",
   "metadata": {},
   "source": [
    "**Plant Safety Stock** : ```Ensures\n",
    "that the plants of the company will have an adequate level of\n",
    "safety stock```"
   ]
  },
  {
   "cell_type": "code",
   "execution_count": 71,
   "id": "941166c8",
   "metadata": {},
   "outputs": [],
   "source": [
    "for m in plants:\n",
    "    for j in raw_materials:\n",
    "        mdl.add_constraint(mdl.sum(RM[j,l,m] for l in suppliers) >= plant_safety_stock[m,j])"
   ]
  },
  {
   "cell_type": "markdown",
   "id": "f868cb6a",
   "metadata": {},
   "source": [
    "**Production Capacity** : ```Ensures that the amount of\n",
    "products produced by the plants will not go beyond the\n",
    "production limit```"
   ]
  },
  {
   "cell_type": "code",
   "execution_count": 72,
   "id": "6acd1480",
   "metadata": {},
   "outputs": [],
   "source": [
    "for m in plants:\n",
    "    for k in products:\n",
    "        mdl.add_constraint(mdl.sum(P[k,m,n] for n in customers) <= production_capacity[m,k])"
   ]
  },
  {
   "cell_type": "markdown",
   "id": "b610c573",
   "metadata": {},
   "source": [
    "**Raw Material Conversion** : ```Ensures that\n",
    "there is an adequate number of raw materials for the\n",
    "production of the finished goods```"
   ]
  },
  {
   "cell_type": "code",
   "execution_count": 73,
   "id": "02f80469",
   "metadata": {},
   "outputs": [],
   "source": [
    "for m in plants:\n",
    "    for j in raw_materials:\n",
    "        # LHS: all incoming RM of type j to plant m\n",
    "        lhs = mdl.sum(RM[j,l,m] for l in suppliers)\n",
    "\n",
    "        # RHS: usage from products\n",
    "        rhs = mdl.sum(conversion[k,j] * P[k,m,n] for k in products for n in customers)\n",
    "        mdl.add_constraint(lhs >= rhs)"
   ]
  },
  {
   "cell_type": "markdown",
   "id": "99272908",
   "metadata": {},
   "source": [
    "**Customer Demand** : ```Ensures that stock outs will be avoided and that service level will be at full if there is indeed a solution to\n",
    "the model```"
   ]
  },
  {
   "cell_type": "code",
   "execution_count": 74,
   "id": "55288473",
   "metadata": {},
   "outputs": [],
   "source": [
    "for n in customers:\n",
    "    for k in products:\n",
    "        mdl.add_constraint(mdl.sum(P[k,m,n] for m in plants) >= customer_demand[n,k])"
   ]
  },
  {
   "cell_type": "markdown",
   "id": "96e8d6bd",
   "metadata": {},
   "source": [
    "## Base Model Solution\n",
    "\n",
    "---"
   ]
  },
  {
   "cell_type": "code",
   "execution_count": 75,
   "id": "cbc5edd5",
   "metadata": {},
   "outputs": [
    {
     "name": "stdout",
     "output_type": "stream",
     "text": [
      "Version identifier: 22.1.1.0 | 2022-11-27 | 9160aff4d\n",
      "CPXPARAM_Read_DataCheck                          1\n",
      "Tried aggregator 1 time.\n",
      "MIP Presolve eliminated 2 rows and 6 columns.\n",
      "Reduced MIP has 28 rows, 30 columns, and 108 nonzeros.\n",
      "Reduced MIP has 0 binaries, 30 generals, 0 SOSs, and 0 indicators.\n",
      "Presolve time = 0.00 sec. (0.05 ticks)\n",
      "Found incumbent of value 269014.000000 after 0.02 sec. (0.17 ticks)\n",
      "Tried aggregator 1 time.\n",
      "Detecting symmetries...\n",
      "Reduced MIP has 28 rows, 30 columns, and 108 nonzeros.\n",
      "Reduced MIP has 0 binaries, 30 generals, 0 SOSs, and 0 indicators.\n",
      "Presolve time = 0.00 sec. (0.05 ticks)\n",
      "MIP emphasis: balance optimality and feasibility.\n",
      "MIP search method: dynamic search.\n",
      "Parallel mode: deterministic, using up to 16 threads.\n",
      "Root relaxation solution time = 0.00 sec. (0.07 ticks)\n",
      "\n",
      "        Nodes                                         Cuts/\n",
      "   Node  Left     Objective  IInf  Best Integer    Best Bound    ItCnt     Gap\n",
      "\n",
      "*     0+    0                       269014.0000        0.0000           100.00%\n",
      "*     0+    0                       268438.0000        0.0000           100.00%\n",
      "      0     0   219400.0000     6   268438.0000   219400.0000       25   18.27%\n",
      "*     0     0      integral     0   219400.0000      Fract: 2       26    0.00%\n",
      "      0     0        cutoff         219400.0000   219400.0000       26    0.00%\n",
      "Elapsed time = 0.02 sec. (0.50 ticks, tree = 0.01 MB, solutions = 3)\n",
      "\n",
      "Gomory fractional cuts applied:  2\n",
      "\n",
      "Root node processing (before b&c):\n",
      "  Real time             =    0.02 sec. (0.50 ticks)\n",
      "Parallel b&c, 16 threads:\n",
      "  Real time             =    0.00 sec. (0.00 ticks)\n",
      "  Sync time (average)   =    0.00 sec.\n",
      "  Wait time (average)   =    0.00 sec.\n",
      "                          ------------\n",
      "Total (root+branch&cut) =    0.02 sec. (0.50 ticks)\n",
      "Objective value (Total Cost): 219400.0\n",
      "RM11B = 3301\n",
      "RM11C = 1499\n",
      "RM12A = 4399\n",
      "RM12C = 1\n",
      "RM21A = 3500\n",
      "RM21C = 1500\n",
      "RM23B = 2900\n",
      "PAA3 = 867\n",
      "PAB2 = 600\n",
      "PAB3 = 233\n",
      "PAC1 = 500\n",
      "PBA1 = 566\n",
      "PBA3 = 1200\n",
      "PBB2 = 1234\n",
      "PBC1 = 334\n",
      "PBC2 = 165\n"
     ]
    }
   ],
   "source": [
    "solution = mdl.solve(log_output=True)\n",
    "if solution:\n",
    "    print(\"Objective value (Total Cost):\", solution.objective_value)\n",
    "    for var in mdl.iter_integer_vars():\n",
    "        if var.solution_value > 0:\n",
    "            print(f\"{var.name} = {int(var.solution_value)}\")\n",
    "else:\n",
    "    print(\"No solution found.\")"
   ]
  },
  {
   "cell_type": "markdown",
   "id": "87331916",
   "metadata": {},
   "source": [
    " **Model Formulation seems correct** - results are identical to the ones presented in the paper:\n",
    "- ₱21,940,000 total cost\n",
    "- ₱1,675,400 in savings"
   ]
  },
  {
   "cell_type": "markdown",
   "id": "bb9940b9",
   "metadata": {},
   "source": [
    "# Extended Model\n",
    "---\n",
    "This extension adds carbon emission penalties for CO₂ emissions above the allowed threshold for the permit (different threshold per plant, based on chacteristics of the plant like size, location, etc.). \n",
    "\n",
    "Let’s say:\n",
    "\n",
    "- Each unit of product $k$ (chair/drawer) produced at plant $m$ emits $e_{km}$ units of CO₂.\n",
    "\n",
    "- Each plant $m$ has an emissions penalty threshold: $E_m$.\n",
    "\n",
    "- Each plant $m$ has a permit price of $PP_m$\n",
    "\n",
    "The assumptions are:\n",
    "\n",
    "- $e_{km}$, $PP_m$ and $E_m$ are known\n",
    "- Every unit of CO₂ emitted over the threshold will be penalized at the same known rate $PR$ (say ₱1000 / Unit CO₂) regardless of the plant / amount over threshold"
   ]
  },
  {
   "cell_type": "markdown",
   "id": "59b6f5c4",
   "metadata": {},
   "source": [
    "## Extended Data\n",
    "---"
   ]
  },
  {
   "cell_type": "markdown",
   "id": "a4dbdfb9",
   "metadata": {},
   "source": [
    "### Emissions ($e_{km}$)"
   ]
  },
  {
   "cell_type": "code",
   "execution_count": 76,
   "id": "043d8316",
   "metadata": {},
   "outputs": [
    {
     "data": {
      "text/html": [
       "<div>\n",
       "<style scoped>\n",
       "    .dataframe tbody tr th:only-of-type {\n",
       "        vertical-align: middle;\n",
       "    }\n",
       "\n",
       "    .dataframe tbody tr th {\n",
       "        vertical-align: top;\n",
       "    }\n",
       "\n",
       "    .dataframe thead th {\n",
       "        text-align: right;\n",
       "    }\n",
       "</style>\n",
       "<table border=\"1\" class=\"dataframe\">\n",
       "  <thead>\n",
       "    <tr style=\"text-align: right;\">\n",
       "      <th></th>\n",
       "      <th>Plant</th>\n",
       "      <th>Product</th>\n",
       "      <th>Emission</th>\n",
       "    </tr>\n",
       "  </thead>\n",
       "  <tbody>\n",
       "    <tr>\n",
       "      <th>0</th>\n",
       "      <td>A</td>\n",
       "      <td>A</td>\n",
       "      <td>1.5</td>\n",
       "    </tr>\n",
       "    <tr>\n",
       "      <th>1</th>\n",
       "      <td>A</td>\n",
       "      <td>B</td>\n",
       "      <td>2.0</td>\n",
       "    </tr>\n",
       "    <tr>\n",
       "      <th>2</th>\n",
       "      <td>B</td>\n",
       "      <td>A</td>\n",
       "      <td>1.8</td>\n",
       "    </tr>\n",
       "    <tr>\n",
       "      <th>3</th>\n",
       "      <td>B</td>\n",
       "      <td>B</td>\n",
       "      <td>2.1</td>\n",
       "    </tr>\n",
       "    <tr>\n",
       "      <th>4</th>\n",
       "      <td>C</td>\n",
       "      <td>A</td>\n",
       "      <td>1.4</td>\n",
       "    </tr>\n",
       "    <tr>\n",
       "      <th>5</th>\n",
       "      <td>C</td>\n",
       "      <td>B</td>\n",
       "      <td>1.9</td>\n",
       "    </tr>\n",
       "  </tbody>\n",
       "</table>\n",
       "</div>"
      ],
      "text/plain": [
       "  Plant Product  Emission\n",
       "0     A       A       1.5\n",
       "1     A       B       2.0\n",
       "2     B       A       1.8\n",
       "3     B       B       2.1\n",
       "4     C       A       1.4\n",
       "5     C       B       1.9"
      ]
     },
     "metadata": {},
     "output_type": "display_data"
    }
   ],
   "source": [
    "penalty_per_unit = 10\n",
    "\n",
    "e_km = {\n",
    "    ('A', 'A'): 1.5,   # Plant A, Chair (A)\n",
    "    ('A', 'B'): 2.0,   # Plant A, Drawer (B)\n",
    "    ('B', 'A'): 1.8,\n",
    "    ('B', 'B'): 2.1,\n",
    "    ('C', 'A'): 1.4,\n",
    "    ('C', 'B'): 1.9\n",
    "}\n",
    "\n",
    "display(pd.DataFrame(\n",
    "    [(plant, product, emission) for (plant, product), emission in e_km.items()],\n",
    "    columns=pd.Index(['Plant', 'Product', 'Emission'])\n",
    "))"
   ]
  },
  {
   "cell_type": "markdown",
   "id": "6652c7c8",
   "metadata": {},
   "source": [
    "### Emission Thresholds ($E_m$)"
   ]
  },
  {
   "cell_type": "code",
   "execution_count": 77,
   "id": "6018ebd7",
   "metadata": {},
   "outputs": [
    {
     "data": {
      "text/html": [
       "<div>\n",
       "<style scoped>\n",
       "    .dataframe tbody tr th:only-of-type {\n",
       "        vertical-align: middle;\n",
       "    }\n",
       "\n",
       "    .dataframe tbody tr th {\n",
       "        vertical-align: top;\n",
       "    }\n",
       "\n",
       "    .dataframe thead th {\n",
       "        text-align: right;\n",
       "    }\n",
       "</style>\n",
       "<table border=\"1\" class=\"dataframe\">\n",
       "  <thead>\n",
       "    <tr style=\"text-align: right;\">\n",
       "      <th></th>\n",
       "      <th>Plant</th>\n",
       "      <th>Emission Threshold</th>\n",
       "    </tr>\n",
       "  </thead>\n",
       "  <tbody>\n",
       "    <tr>\n",
       "      <th>0</th>\n",
       "      <td>A</td>\n",
       "      <td>1000</td>\n",
       "    </tr>\n",
       "    <tr>\n",
       "      <th>1</th>\n",
       "      <td>B</td>\n",
       "      <td>1200</td>\n",
       "    </tr>\n",
       "    <tr>\n",
       "      <th>2</th>\n",
       "      <td>C</td>\n",
       "      <td>1450</td>\n",
       "    </tr>\n",
       "  </tbody>\n",
       "</table>\n",
       "</div>"
      ],
      "text/plain": [
       "  Plant  Emission Threshold\n",
       "0     A                1000\n",
       "1     B                1200\n",
       "2     C                1450"
      ]
     },
     "metadata": {},
     "output_type": "display_data"
    }
   ],
   "source": [
    "E_m = {\n",
    "    'A': 1000,\n",
    "    'B': 1200,\n",
    "    'C': 1450\n",
    "}\n",
    "\n",
    "display(pd.DataFrame(\n",
    "    list(E_m.items()),\n",
    "    columns=pd.Index(['Plant', 'Emission Threshold'])\n",
    "))"
   ]
  },
  {
   "cell_type": "markdown",
   "id": "301d9898",
   "metadata": {},
   "source": [
    "### Permit Prices ($PP_m$)"
   ]
  },
  {
   "cell_type": "code",
   "execution_count": 78,
   "id": "092848e8",
   "metadata": {},
   "outputs": [
    {
     "data": {
      "text/html": [
       "<div>\n",
       "<style scoped>\n",
       "    .dataframe tbody tr th:only-of-type {\n",
       "        vertical-align: middle;\n",
       "    }\n",
       "\n",
       "    .dataframe tbody tr th {\n",
       "        vertical-align: top;\n",
       "    }\n",
       "\n",
       "    .dataframe thead th {\n",
       "        text-align: right;\n",
       "    }\n",
       "</style>\n",
       "<table border=\"1\" class=\"dataframe\">\n",
       "  <thead>\n",
       "    <tr style=\"text-align: right;\">\n",
       "      <th></th>\n",
       "      <th>Plant</th>\n",
       "      <th>Permit Price</th>\n",
       "    </tr>\n",
       "  </thead>\n",
       "  <tbody>\n",
       "    <tr>\n",
       "      <th>0</th>\n",
       "      <td>A</td>\n",
       "      <td>30000</td>\n",
       "    </tr>\n",
       "    <tr>\n",
       "      <th>1</th>\n",
       "      <td>B</td>\n",
       "      <td>36000</td>\n",
       "    </tr>\n",
       "    <tr>\n",
       "      <th>2</th>\n",
       "      <td>C</td>\n",
       "      <td>43500</td>\n",
       "    </tr>\n",
       "  </tbody>\n",
       "</table>\n",
       "</div>"
      ],
      "text/plain": [
       "  Plant  Permit Price\n",
       "0     A         30000\n",
       "1     B         36000\n",
       "2     C         43500"
      ]
     },
     "metadata": {},
     "output_type": "display_data"
    }
   ],
   "source": [
    "PP_m = {\n",
    "    'A': 30000,\n",
    "    'B': 36000,\n",
    "    'C': 43500\n",
    "}\n",
    "\n",
    "display(pd.DataFrame(\n",
    "    list(PP_m.items()),\n",
    "    columns=pd.Index(['Plant', 'Permit Price'])\n",
    "))"
   ]
  },
  {
   "cell_type": "markdown",
   "id": "989d0f0a",
   "metadata": {},
   "source": [
    "## Extended Objective Function\n",
    "---"
   ]
  },
  {
   "cell_type": "markdown",
   "id": "1fe6bc62",
   "metadata": {},
   "source": [
    "### Table 9. New term(s) in objective function\n",
    "\n",
    "| $Z_n$ | Equation Number | Cost Type                  |\n",
    "|------|------------------|----------------------------|\n",
    "| $Z_1$ | (1)             | Raw Material Purchase Cost |\n",
    "| $Z_2$ | (2)             | Production Cost            |\n",
    "| $Z_3$ | (3)             | Transportation Cost (Raw Metrials)        |\n",
    "| $Z_4$ | (4)             | Transportation Cost (Finished Products)        |\n",
    "| $Z_5$ | (5)             | **Emission Penalty**        |\n",
    "| $Z_6$ | (6)             | **Permit Cost**        |\n",
    "| $Z$   | (7)             | Total Cost                 |\n",
    "\n",
    "\n",
    "### New Decision Variable(s)\n",
    "\n",
    "Let $S_m$ be the excess emissions for each plant, where:\n",
    "\n",
    "- $m$ is the plant [A, B, C]\n",
    "\n",
    "Let $O_m$ be 1 if plant $m$ is opened, 0 otherwise"
   ]
  },
  {
   "cell_type": "code",
   "execution_count": 79,
   "id": "7026e7ee",
   "metadata": {},
   "outputs": [],
   "source": [
    "mdl = Model(name=\"Plastic_Manufacturing_Optimization\")\n",
    "\n",
    "# Base Decision variables\n",
    "RM = {(j,l,m): mdl.integer_var(name=f\"RM{j}{l}{m}\") for j in raw_materials for l in suppliers for m in plants}\n",
    "P  = {(k,m,n): mdl.integer_var(name=f\"P{k}{m}{n}\") for k in products for m in plants for n in customers}\n",
    "\n",
    "# New Decision Variables\n",
    "S = {m: mdl.continuous_var(lb=0, name=f\"S_{m}\") for m in plants}\n",
    "O_m = {m: mdl.binary_var(name=f\"O_{m}\") for m in plants}\n",
    "\n",
    "# New Objective Function\n",
    "mdl.minimize(\n",
    "    # Raw Material Purchase\n",
    "    mdl.sum(raw_material_costs.get((j, l), 0) * RM[j, l, m] for j in raw_materials for l in suppliers for m in plants) +\n",
    "    # Production Cost\n",
    "    mdl.sum(production_cost[m, k] * P[k, m, n] for k in products for m in plants for n in customers) +\n",
    "    # Transportation Costs - Raw Materials\n",
    "    mdl.sum(transport_cost_rm[l, m] * RM[j, l, m] for j in raw_materials for l in suppliers for m in plants) +\n",
    "    # Transportation Costs - Finished Goods\n",
    "    mdl.sum(transport_cost_fg[m, n] * P[k, m, n] for k in products for m in plants for n in customers) +\n",
    "    # Emission Penalty\n",
    "    penalty_per_unit * mdl.sum(S[m] for m in plants) +\n",
    "    # Permit Cost\n",
    "    mdl.sum(PP_m[m] * O_m[m] for m in plants)\n",
    ")"
   ]
  },
  {
   "cell_type": "markdown",
   "id": "92089578",
   "metadata": {},
   "source": [
    "## Extended Constraint(s)\n",
    "---"
   ]
  },
  {
   "cell_type": "code",
   "execution_count": 80,
   "id": "ffa45403",
   "metadata": {},
   "outputs": [],
   "source": [
    "# Existing constraints\n",
    "\n",
    "# Supplier Capacity\n",
    "for j in raw_materials:\n",
    "    for l in suppliers:\n",
    "        mdl.add_constraint(mdl.sum(RM[j,l,m] for m in plants) <= supplier_capacities.get((j,l), 0))\n",
    "\n",
    "# Production Capacity\n",
    "for m in plants:\n",
    "    for k in products:\n",
    "        mdl.add_constraint(mdl.sum(P[k,m,n] for n in customers) <= production_capacity[m,k])\n",
    "\n",
    "# Raw Material Conversion\n",
    "for m in plants:\n",
    "    for j in raw_materials:\n",
    "        # LHS: all incoming RM of type j to plant m\n",
    "        lhs = mdl.sum(RM[j,l,m] for l in suppliers)\n",
    "\n",
    "        # RHS: usage from products\n",
    "        rhs = mdl.sum(conversion[k,j] * P[k,m,n] for k in products for n in customers)\n",
    "        mdl.add_constraint(lhs >= rhs)\n",
    "\n",
    "# Customer Demand\n",
    "for n in customers:\n",
    "    for k in products:\n",
    "        mdl.add_constraint(mdl.sum(P[k,m,n] for m in plants) >= customer_demand[n,k])"
   ]
  },
  {
   "cell_type": "markdown",
   "id": "b490c6fd",
   "metadata": {},
   "source": [
    "**Surplus emission constraint** : ```Ensures that emissions above each plant's threshold are tracked and penalized in the objective function```\n",
    "\n",
    "*Actual Emissions - Emission Cap ≤ $S_m$*\n",
    "\n",
    "- The excess emissions must be at least equal to the to how much you went over the limit\n",
    "- It forces $S_m$ to capture the true excess amount"
   ]
  },
  {
   "cell_type": "code",
   "execution_count": 81,
   "id": "e94d788b",
   "metadata": {},
   "outputs": [],
   "source": [
    "for m in plants:\n",
    "    mdl.add_constraint(\n",
    "        mdl.sum(\n",
    "            e_km[(m, k)] * mdl.sum(P[k, m, n] for n in customers)\n",
    "            for k in products\n",
    "        ) - E_m[m] <= S[m]\n",
    "    )"
   ]
  },
  {
   "cell_type": "markdown",
   "id": "77edfcd5",
   "metadata": {},
   "source": [
    "**Linking $O_m$ to plant usage** : ```Forces plant open variable to be 1 if any production occurs at that plant```\n",
    "\n",
    "- ensures $O_m$ = 1 if any production occurs at plant m, and 0 otherwise"
   ]
  },
  {
   "cell_type": "code",
   "execution_count": 82,
   "id": "6aea17b3",
   "metadata": {},
   "outputs": [],
   "source": [
    "# Big-M for each plant: sum of all production capacities at plant m\n",
    "big_M = {m: sum(production_capacity[m, k] for k in products) for m in plants}\n",
    "\n",
    "for m in plants:\n",
    "    mdl.add_constraint(\n",
    "        mdl.sum(P[k, m, n] for k in products for n in customers) <= big_M[m] * O_m[m]\n",
    "    )"
   ]
  },
  {
   "cell_type": "markdown",
   "id": "dbf05bc5",
   "metadata": {},
   "source": [
    "**Updated Safety Stock Constraint**: ``` This is conditional on the $O_m$ variable```\n",
    "\n",
    "*The safety stock constraint in the base model forces all plants to be open*"
   ]
  },
  {
   "cell_type": "code",
   "execution_count": 83,
   "id": "1ab7eb9c",
   "metadata": {},
   "outputs": [],
   "source": [
    "for m in plants:\n",
    "    for j in raw_materials:\n",
    "        mdl.add_constraint(\n",
    "            mdl.sum(RM[j, l, m] for l in suppliers) >= plant_safety_stock[m, j] * O_m[m]\n",
    "        )"
   ]
  },
  {
   "cell_type": "markdown",
   "id": "d722009b",
   "metadata": {},
   "source": [
    "## Extended Solution\n",
    "---"
   ]
  },
  {
   "cell_type": "code",
   "execution_count": 84,
   "id": "0b7fa6d3",
   "metadata": {},
   "outputs": [
    {
     "name": "stdout",
     "output_type": "stream",
     "text": [
      "Version identifier: 22.1.1.0 | 2022-11-27 | 9160aff4d\n",
      "CPXPARAM_Read_DataCheck                          1\n",
      "Tried aggregator 1 time.\n",
      "MIP Presolve eliminated 2 rows and 6 columns.\n",
      "Reduced MIP has 34 rows, 36 columns, and 156 nonzeros.\n",
      "Reduced MIP has 3 binaries, 30 generals, 0 SOSs, and 0 indicators.\n",
      "Presolve time = 0.00 sec. (0.07 ticks)\n",
      "Found incumbent of value 446900.000000 after 0.00 sec. (0.19 ticks)\n",
      "Probing time = 0.00 sec. (0.00 ticks)\n",
      "Tried aggregator 1 time.\n",
      "Detecting symmetries...\n",
      "Reduced MIP has 34 rows, 36 columns, and 156 nonzeros.\n",
      "Reduced MIP has 3 binaries, 30 generals, 0 SOSs, and 0 indicators.\n",
      "Presolve time = 0.02 sec. (0.07 ticks)\n",
      "Probing time = 0.00 sec. (0.00 ticks)\n",
      "MIP emphasis: balance optimality and feasibility.\n",
      "MIP search method: dynamic search.\n",
      "Parallel mode: deterministic, using up to 16 threads.\n",
      "Root relaxation solution time = 0.00 sec. (0.13 ticks)\n",
      "\n",
      "        Nodes                                         Cuts/\n",
      "   Node  Left     Objective  IInf  Best Integer    Best Bound    ItCnt     Gap\n",
      "\n",
      "*     0+    0                       446900.0000        0.0000           100.00%\n",
      "*     0+    0                       446465.0000        0.0000           100.00%\n",
      "*     0+    0                       446030.0000        0.0000           100.00%\n",
      "*     0+    0                       445595.0000        0.0000           100.00%\n",
      "      0     0   339761.3831    11   445595.0000   339761.3831       39   23.75%\n",
      "      0     0   363095.4251     9   445595.0000      Cuts: 19       61   18.51%\n",
      "      0     0   367351.6983    25   445595.0000       Cuts: 9       71   17.56%\n",
      "      0     0   367353.2114    21   445595.0000   Impl Bds: 2       73   17.56%\n",
      "*     0+    0                       370712.0000   367353.2114             0.91%\n",
      "*     0+    0                       368750.0000   367353.2114             0.38%\n",
      "      0     0        cutoff         368750.0000   368750.0000       73    0.00%\n",
      "Elapsed time = 0.03 sec. (2.02 ticks, tree = 0.01 MB, solutions = 6)\n",
      "\n",
      "Implied bound cuts applied:  12\n",
      "Mixed integer rounding cuts applied:  1\n",
      "Lift and project cuts applied:  1\n",
      "Gomory fractional cuts applied:  2\n",
      "\n",
      "Root node processing (before b&c):\n",
      "  Real time             =    0.03 sec. (2.03 ticks)\n",
      "Parallel b&c, 16 threads:\n",
      "  Real time             =    0.00 sec. (0.00 ticks)\n",
      "  Sync time (average)   =    0.00 sec.\n",
      "  Wait time (average)   =    0.00 sec.\n",
      "                          ------------\n",
      "Total (root+branch&cut) =    0.03 sec. (2.03 ticks)\n",
      "Objective value (Total Cost): 368750.0\n",
      "\n",
      "Integer Variables:\n",
      "RM11B = 4200\n",
      "RM12A = 5000\n",
      "RM21A = 4750\n",
      "RM21B = 250\n",
      "RM23B = 2900\n",
      "PAA1 = 500\n",
      "PAA3 = 1000\n",
      "PAB2 = 600\n",
      "PAB3 = 100\n",
      "PBA1 = 840\n",
      "PBA3 = 910\n",
      "PBB1 = 60\n",
      "PBB2 = 1400\n",
      "PBB3 = 290\n",
      "\n",
      "Continuous Variables:\n",
      "S_A = 4750.0\n",
      "S_B = 3735.0\n",
      "S_C = 0\n",
      "\n",
      "Plant Open Decision Variables (O_m):\n",
      "O_A = 1\n",
      "O_B = 1\n",
      "O_C = 0\n"
     ]
    }
   ],
   "source": [
    "solution = mdl.solve(log_output=True)\n",
    "if solution:\n",
    "    print(\"Objective value (Total Cost):\", solution.objective_value)\n",
    "    \n",
    "    # Print integer variables\n",
    "    print(\"\\nInteger Variables:\")\n",
    "    for var in mdl.iter_integer_vars():\n",
    "        if var.solution_value > 0:\n",
    "            print(f\"{var.name} = {int(var.solution_value)}\")\n",
    "    \n",
    "    # Print ALL continuous variables (including zero values)\n",
    "    print(\"\\nContinuous Variables:\")\n",
    "    for var in mdl.iter_continuous_vars():\n",
    "        print(f\"{var.name} = {var.solution_value}\")\n",
    "    \n",
    "    # Print binary O_m variables\n",
    "    print(\"\\nPlant Open Decision Variables (O_m):\")\n",
    "    for m in plants:\n",
    "        print(f\"O_{m} = {int(O_m[m].solution_value)}\")\n",
    "else:\n",
    "    print(\"No solution found.\")"
   ]
  }
 ],
 "metadata": {
  "kernelspec": {
   "display_name": "Python 3",
   "language": "python",
   "name": "python3"
  },
  "language_info": {
   "codemirror_mode": {
    "name": "ipython",
    "version": 3
   },
   "file_extension": ".py",
   "mimetype": "text/x-python",
   "name": "python",
   "nbconvert_exporter": "python",
   "pygments_lexer": "ipython3",
   "version": "3.10.0"
  }
 },
 "nbformat": 4,
 "nbformat_minor": 5
}
